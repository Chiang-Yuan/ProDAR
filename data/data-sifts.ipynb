{
 "cells": [
  {
   "cell_type": "markdown",
   "id": "3ded0307",
   "metadata": {},
   "source": [
    "# **Data-SIFTS**\n",
    "This is the data-preprocessing script that screens through [RCSB PDB](https://www.rcsb.org/) [search API](https://search.rcsb.org/) and [PDBe](https://www.ebi.ac.uk/pdbe/) [SIFTS API](https://www.ebi.ac.uk/pdbe/api/doc/sifts.html) to retrieve targeted PDB ids and associated gene ontology (GO) codes.\n",
    "\n",
    "## **0. Prerequisites**\n",
    "### Required packages"
   ]
  },
  {
   "cell_type": "code",
   "execution_count": 1,
   "id": "ee8ba9d8",
   "metadata": {},
   "outputs": [],
   "source": [
    "import math\n",
    "import time\n",
    "from datetime import datetime\n",
    "import numpy as np\n",
    "import requests\n",
    "import json\n",
    "from tqdm.auto import tqdm\n",
    "\n",
    "from argparse import Namespace"
   ]
  },
  {
   "cell_type": "markdown",
   "id": "b8f00fce",
   "metadata": {},
   "source": [
    "### Configurations"
   ]
  },
  {
   "cell_type": "code",
   "execution_count": 2,
   "id": "a27c33c5",
   "metadata": {},
   "outputs": [],
   "source": [
    "config = Namespace(\n",
    "    sifts_timeout=10,\n",
    "    sifts_savedir='./sifts',\n",
    "    go_thres=50\n",
    ")"
   ]
  },
  {
   "cell_type": "markdown",
   "id": "b5454134",
   "metadata": {},
   "source": [
    "## **1. First screening**\n",
    "\n",
    "### Filter PDB ids and chains from [RCSB PDB](https://www.rcsb.org/) [search API](https://search.rcsb.org/)"
   ]
  },
  {
   "cell_type": "code",
   "execution_count": 3,
   "id": "3d5a8f02",
   "metadata": {},
   "outputs": [
    {
     "name": "stdout",
     "output_type": "stream",
     "text": [
      "Fetching data from https://search.rcsb.org/rcsbsearch/v1/query?json={\n",
      "  \"query\": {\n",
      "    \"type\": \"group\",\n",
      "    \"logical_operator\": \"and\",\n",
      "    \"nodes\": [\n",
      "      {\n",
      "        \"type\": \"terminal\",\n",
      "        \"service\": \"text\",\n",
      "        \"parameters\": {\n",
      "          \"operator\": \"exact_match\",\n",
      "          \"negation\": false,\n",
      "          \"value\": \"Protein\",\n",
      "          \"attribute\": \"entity_poly.rcsb_entity_polymer_type\"\n",
      "        }\n",
      "      },\n",
      "      {\n",
      "        \"type\": \"terminal\",\n",
      "        \"service\": \"text\",\n",
      "        \"parameters\": {\n",
      "          \"operator\": \"range\",\n",
      "          \"negation\": false,\n",
      "          \"attribute\": \"rcsb_polymer_entity.formula_weight\",\n",
      "          \"value\": {\n",
      "            \"from\": 10,\n",
      "            \"include_lower\": true,\n",
      "            \"to\": 300,\n",
      "            \"include_upper\": true\n",
      "          }\n",
      "        }\n",
      "      }\n",
      "    ]\n",
      "  },\n",
      "  \"request_options\": {\n",
      "    \"results_verbosity\": \"minimal\",\n",
      "    \"return_all_hits\": true,\n",
      "    \"group_by\": {\n",
      "      \"aggregation_method\": \"sequence_identity\",\n",
      "      \"similarity_cutoff\": 95,\n",
      "      \"ranking_criteria_type\": {\n",
      "        \"sort_by\": \"entity_poly.rcsb_sample_sequence_length\",\n",
      "        \"direction\": \"desc\"\n",
      "      }\n",
      "    },\n",
      "    \"group_by_return_type\": \"representatives\",\n",
      "    \"scoring_strategy\": \"combined\",\n",
      "    \"sort\": [\n",
      "      {\n",
      "        \"sort_by\": \"rcsb_entry_info.resolution_combined\",\n",
      "        \"direction\": \"asc\"\n",
      "      }\n",
      "    ]\n",
      "  },\n",
      "  \"return_type\": \"polymer_entity\"\n",
      "}...\n",
      "\t63579 out of total 292089 proteins received on 05/18/2022 04:26:48\n"
     ]
    }
   ],
   "source": [
    "request = \"\"\"{\n",
    "  \"query\": {\n",
    "    \"type\": \"group\",\n",
    "    \"logical_operator\": \"and\",\n",
    "    \"nodes\": [\n",
    "      {\n",
    "        \"type\": \"terminal\",\n",
    "        \"service\": \"text\",\n",
    "        \"parameters\": {\n",
    "          \"operator\": \"exact_match\",\n",
    "          \"negation\": false,\n",
    "          \"value\": \"Protein\",\n",
    "          \"attribute\": \"entity_poly.rcsb_entity_polymer_type\"\n",
    "        }\n",
    "      },\n",
    "      {\n",
    "        \"type\": \"terminal\",\n",
    "        \"service\": \"text\",\n",
    "        \"parameters\": {\n",
    "          \"operator\": \"range\",\n",
    "          \"negation\": false,\n",
    "          \"attribute\": \"rcsb_polymer_entity.formula_weight\",\n",
    "          \"value\": {\n",
    "            \"from\": 10,\n",
    "            \"include_lower\": true,\n",
    "            \"to\": 300,\n",
    "            \"include_upper\": true\n",
    "          }\n",
    "        }\n",
    "      }\n",
    "    ]\n",
    "  },\n",
    "  \"request_options\": {\n",
    "    \"results_verbosity\": \"minimal\",\n",
    "    \"return_all_hits\": true,\n",
    "    \"group_by\": {\n",
    "      \"aggregation_method\": \"sequence_identity\",\n",
    "      \"similarity_cutoff\": 95,\n",
    "      \"ranking_criteria_type\": {\n",
    "        \"sort_by\": \"entity_poly.rcsb_sample_sequence_length\",\n",
    "        \"direction\": \"desc\"\n",
    "      }\n",
    "    },\n",
    "    \"group_by_return_type\": \"representatives\",\n",
    "    \"scoring_strategy\": \"combined\",\n",
    "    \"sort\": [\n",
    "      {\n",
    "        \"sort_by\": \"rcsb_entry_info.resolution_combined\",\n",
    "        \"direction\": \"asc\"\n",
    "      }\n",
    "    ]\n",
    "  },\n",
    "  \"return_type\": \"polymer_entity\"\n",
    "}\"\"\"\n",
    "\n",
    "url = \"https://search.rcsb.org/rcsbsearch/v1/query?json={:s}\".format(request)\n",
    "print(\"Fetching data from {:s}...\".format(url))\n",
    "data = requests.get(url)\n",
    "\n",
    "if data.status_code != 200:\n",
    "    raise AssertionError(\"cannot fetch data from databse\")\n",
    "\n",
    "decoded = data.json()\n",
    "\n",
    "now = datetime.now()\n",
    "dt_string = now.strftime(\"%m/%d/%Y %H:%M:%S\")\n",
    "\n",
    "print(\"\\t{:d} out of total {:d} proteins received on {:s}\".format(\n",
    "    decoded['group_by_count'], \n",
    "    decoded['total_count'], \n",
    "    dt_string))\n",
    "\n",
    "polymers = []\n",
    "for entry in decoded['result_set']:\n",
    "    polymers.append(entry['identifier'])\n",
    "\n",
    "del data, decoded"
   ]
  },
  {
   "cell_type": "markdown",
   "id": "346e03e6",
   "metadata": {},
   "source": [
    "## **2. Second screening**\n",
    "### Fetch GO codes from [PDBe](https://www.ebi.ac.uk/pdbe/) [SIFTS API](https://www.ebi.ac.uk/pdbe/api/doc/sifts.html)"
   ]
  },
  {
   "cell_type": "code",
   "execution_count": 4,
   "id": "b287f8be",
   "metadata": {},
   "outputs": [
    {
     "name": "stdout",
     "output_type": "stream",
     "text": [
      "Fetching GO codes...\n"
     ]
    },
    {
     "data": {
      "application/vnd.jupyter.widget-view+json": {
       "model_id": "4210e16607274cc78ed3a23642cf7756",
       "version_major": 2,
       "version_minor": 0
      },
      "text/plain": [
       "  0%|          | 0/63579 [00:00<?, ?it/s]"
      ]
     },
     "metadata": {},
     "output_type": "display_data"
    }
   ],
   "source": [
    "print(\"Fetching GO codes...\")\n",
    "\n",
    "# t_str = time.time()\n",
    "\n",
    "with open(f'{config.sifts_savedir}/sifts-err-1.log', \"w\") as err:\n",
    "    mf_go_codes_all = []\n",
    "    pdb_chains_all = []\n",
    "    for i, polymer in enumerate(tqdm(polymers)):\n",
    "        pdb_id, entity_id = polymer.lower().split('_')\n",
    "    \n",
    "        url = \"https://www.ebi.ac.uk/pdbe/api/mappings/go/\"+pdb_id\n",
    "\n",
    "        try:\n",
    "            data = requests.get(url, timeout=config.sifts_timeout)\n",
    "        except requests.Timeout:\n",
    "            err.write(\"\\tpdb_id: {:4s} -> Timeout\\n\".format(pdb_id))\n",
    "            err.flush()\n",
    "            continue\n",
    "\n",
    "        if data.status_code != 200:\n",
    "            err.write(\"\\tpdb_id: {:4s} -> Failure (status = {:d})\\n\".format(pdb_id, data.status_code))\n",
    "            err.flush()\n",
    "            continue\n",
    "\n",
    "        decoded = data.json()\n",
    "\n",
    "        for go_code in decoded[pdb_id]['GO'].keys():\n",
    "            if decoded[pdb_id]['GO'][go_code]['category'] == \"Molecular_function\":\n",
    "                for mapping in decoded[pdb_id]['GO'][go_code]['mappings']:\n",
    "                    if int(mapping['entity_id']) == int(entity_id):\n",
    "                        mf_go_codes_all.append(go_code)\n",
    "                        pdb_chains_all.append('{:s}_{:s}'.format(pdb_id, mapping['chain_id']))\n",
    "\n",
    "    err.close()\n"
   ]
  },
  {
   "cell_type": "markdown",
   "id": "851ec060",
   "metadata": {},
   "source": [
    "### Save all and filtered pdb-chain ids and GO codes"
   ]
  },
  {
   "cell_type": "code",
   "execution_count": 5,
   "id": "3e06fb1f",
   "metadata": {},
   "outputs": [],
   "source": [
    "pdb_chains = np.unique(pdb_chains_all)\n",
    "\n",
    "np.savetxt(f'{config.sifts_savedir}/pdb_chains.dat', pdb_chains, fmt='%s')\n",
    "\n",
    "uniques, counts = np.unique(mf_go_codes_all, return_counts=True)\n",
    "\n",
    "np.savetxt(f'{config.sifts_savedir}/mf_go_codes-allcnt.dat', \n",
    "           np.concatenate((uniques.reshape(-1,1), \n",
    "                           counts.reshape(-1,1)),\n",
    "                           axis=1),\n",
    "           fmt='%s\\t%s')\n",
    "\n",
    "mask = counts >= config.go_thres\n",
    "\n",
    "np.savetxt(f'{config.sifts_savedir}/mf_go_codes-thres-{config.go_thres:d}.dat', \n",
    "           np.concatenate((uniques[mask].reshape(-1,1), \n",
    "                           counts[mask].reshape(-1,1)),\n",
    "                           axis=1),\n",
    "           fmt='%s\\t%s')\n",
    "\n",
    "np.save(f'{config.sifts_savedir}/mf_go_codes-thres-{config.go_thres:d}.npy', \n",
    "        uniques[counts >= config.go_thres])"
   ]
  },
  {
   "cell_type": "markdown",
   "id": "1310cc3f",
   "metadata": {},
   "source": [
    "## **3. Export PDB-GO pairs**\n",
    "### Generate PDB-GO pairs based on filtered entries"
   ]
  },
  {
   "cell_type": "code",
   "execution_count": 7,
   "id": "66a7cbbc",
   "metadata": {},
   "outputs": [
    {
     "name": "stdout",
     "output_type": "stream",
     "text": [
      "Generating pdb mf-go vectors...\n"
     ]
    },
    {
     "data": {
      "application/vnd.jupyter.widget-view+json": {
       "model_id": "acf2b5005ac54470bda1ac49697d921b",
       "version_major": 2,
       "version_minor": 0
      },
      "text/plain": [
       "  0%|          | 0/62439 [00:00<?, ?it/s]"
      ]
     },
     "metadata": {},
     "output_type": "display_data"
    }
   ],
   "source": [
    "print(\"Generating pdb mf-go vectors...\")\n",
    "\n",
    "mf_go_codes = np.load(f'{config.sifts_savedir}/mf_go_codes-thres-{config.go_thres:d}.npy')\n",
    "\n",
    "pdbmfgos = {}\n",
    "\n",
    "with open(f'{config.sifts_savedir}/sifts-err-2.log', \"w\") as err:\n",
    "    for i, pdb_chain in enumerate(tqdm(pdb_chains)):\n",
    "        pdb_id, chain_id = pdb_chain.split('_')\n",
    "\n",
    "        url = \"https://www.ebi.ac.uk/pdbe/api/mappings/go/\"+pdb_id\n",
    "\n",
    "        try:\n",
    "            data = requests.get(url, timeout=config.sifts_timeout)\n",
    "        except requests.Timeout:\n",
    "            err.write(\"\\tpdb_id: {:4s} -> Timeout\\n\".format(pdb_chain))\n",
    "            err.flush()\n",
    "            continue\n",
    "\n",
    "        if data.status_code != 200:\n",
    "            err.write(\"\\tpdb_id: {:4s} -> Failure (status = {:d})\\n\".format(pdb_id, data.status_code))\n",
    "            err.flush()\n",
    "            continue\n",
    "\n",
    "        decoded = data.json()\n",
    "\n",
    "        pdbmfgo = np.zeros(mf_go_codes.shape, dtype=int)\n",
    "        for go_code in decoded[pdb_id]['GO'].keys():\n",
    "            if decoded[pdb_id]['GO'][go_code]['category'] == \"Molecular_function\":\n",
    "                for mapping in decoded[pdb_id]['GO'][go_code]['mappings']:\n",
    "                    if mapping['chain_id'] == chain_id:\n",
    "                        pdbmfgo += np.where(mf_go_codes == go_code, 1, 0).astype(int)\n",
    "    \n",
    "        pdbmfgos[pdb_chain] = np.argwhere(np.where(pdbmfgo > 0, 1, 0)).reshape(-1).tolist()\n",
    "\n",
    "    err.close()\n",
    "    \n"
   ]
  },
  {
   "cell_type": "markdown",
   "id": "a56673fe",
   "metadata": {},
   "source": [
    "### Save as JSON file"
   ]
  },
  {
   "cell_type": "code",
   "execution_count": 8,
   "id": "e576efc3",
   "metadata": {},
   "outputs": [],
   "source": [
    "with open(f'{config.sifts_savedir}/pdbmfgos-thres-{config.go_thres:d}.json', \"w\") as out_file:\n",
    "    json.dump(pdbmfgos, out_file, \n",
    "              skipkeys=False, \n",
    "              ensure_ascii=True, \n",
    "              indent=None, separators=(', ', ': '),\n",
    "              sort_keys=True)"
   ]
  },
  {
   "cell_type": "markdown",
   "id": "0317b1a3",
   "metadata": {},
   "source": [
    "### Dataset summary"
   ]
  },
  {
   "cell_type": "code",
   "execution_count": 9,
   "id": "63c8b53e",
   "metadata": {},
   "outputs": [
    {
     "name": "stdout",
     "output_type": "stream",
     "text": [
      "protein entries:  62416\n",
      "mf-go entries:    409\n"
     ]
    }
   ],
   "source": [
    "with open(f'{config.sifts_savedir}/pdbmfgos-thres-{config.go_thres:d}.json', \"r\") as in_file:\n",
    "    pdbmfgos = json.load(in_file)\n",
    "\n",
    "print(\"protein entries: {:6d}\\nmf-go entries: {:6d}\".format(\n",
    "    len(pdbmfgos.keys()), \n",
    "    max(list(map(lambda x: [max(x)] if x else [], list(pdbmfgos.values()))))[0]+1)\n",
    ")"
   ]
  }
 ],
 "metadata": {
  "kernelspec": {
   "display_name": "prodar-env",
   "language": "python",
   "name": "prodar-env"
  },
  "language_info": {
   "codemirror_mode": {
    "name": "ipython",
    "version": 3
   },
   "file_extension": ".py",
   "mimetype": "text/x-python",
   "name": "python",
   "nbconvert_exporter": "python",
   "pygments_lexer": "ipython3",
   "version": "3.10.4"
  }
 },
 "nbformat": 4,
 "nbformat_minor": 5
}
